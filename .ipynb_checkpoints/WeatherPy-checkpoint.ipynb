{
 "cells": [
  {
   "cell_type": "code",
   "execution_count": 2,
   "metadata": {},
   "outputs": [],
   "source": [
    "import matplotlib.pyplot as plt\n",
    "import pandas as pd\n",
    "import numpy as np\n",
    "import requests\n",
    "import time\n",
    "import os\n",
    "from citipy import citipy\n",
    "from datetime import datetime\n",
    "\n",
    "apikey ='APIKEY HERE'\n",
    "url = \"http://api.openweathermap.org/data/2.5/weather?\"\n",
    "output_cities_data = \"output_data/weather_cities.csv\"\n",
    "\n",
    "lat_rang = (-90, 90)\n",
    "long_range = (-180, 180)"
   ]
  },
  {
   "cell_type": "code",
   "execution_count": 3,
   "metadata": {},
   "outputs": [],
   "source": [
    "cities = []\n",
    "lats = np.random.uniform(low=-90.000, high=90.000, size=1500)\n",
    "longs = np.random.uniform(low=-180.000, high=180.00, size=1500)\n",
    "lat_longs = zip(lats, longs)\n",
    "citiesWithLatLong =[]\n",
    "\n",
    "for lat_long in lat_longs:\n",
    "    lat_long_list = [lat_long[0], lat_long[1]]\n",
    "    city = citipy.nearest_city(lat_long_list[0], lat_long_list[1]).city_name\n",
    "    if city not in cities:\n",
    "        cities.append(city)\n",
    "    citiesWithLatLong.append({\"city\": city, \"lat\": lat_long_list[0], \"long\": lat_long_list[1]})\n",
    "len(cities)\n",
    "\n",
    "cities_df= pd.DataFrame(citiesWithLatLong)"
   ]
  },
  {
   "cell_type": "code",
   "execution_count": 4,
   "metadata": {},
   "outputs": [
    {
     "data": {
      "text/html": [
       "<div>\n",
       "<style scoped>\n",
       "    .dataframe tbody tr th:only-of-type {\n",
       "        vertical-align: middle;\n",
       "    }\n",
       "\n",
       "    .dataframe tbody tr th {\n",
       "        vertical-align: top;\n",
       "    }\n",
       "\n",
       "    .dataframe thead th {\n",
       "        text-align: right;\n",
       "    }\n",
       "</style>\n",
       "<table border=\"1\" class=\"dataframe\">\n",
       "  <thead>\n",
       "    <tr style=\"text-align: right;\">\n",
       "      <th></th>\n",
       "      <th>city</th>\n",
       "      <th>lat</th>\n",
       "      <th>long</th>\n",
       "    </tr>\n",
       "  </thead>\n",
       "  <tbody>\n",
       "    <tr>\n",
       "      <th>0</th>\n",
       "      <td>husavik</td>\n",
       "      <td>69.479180</td>\n",
       "      <td>-17.324832</td>\n",
       "    </tr>\n",
       "    <tr>\n",
       "      <th>1</th>\n",
       "      <td>langham</td>\n",
       "      <td>52.395385</td>\n",
       "      <td>-107.440798</td>\n",
       "    </tr>\n",
       "    <tr>\n",
       "      <th>2</th>\n",
       "      <td>punta arenas</td>\n",
       "      <td>-68.156787</td>\n",
       "      <td>-88.597121</td>\n",
       "    </tr>\n",
       "    <tr>\n",
       "      <th>3</th>\n",
       "      <td>kahului</td>\n",
       "      <td>30.390448</td>\n",
       "      <td>-149.840562</td>\n",
       "    </tr>\n",
       "    <tr>\n",
       "      <th>4</th>\n",
       "      <td>cape town</td>\n",
       "      <td>-47.510395</td>\n",
       "      <td>-1.785767</td>\n",
       "    </tr>\n",
       "  </tbody>\n",
       "</table>\n",
       "</div>"
      ],
      "text/plain": [
       "           city        lat        long\n",
       "0       husavik  69.479180  -17.324832\n",
       "1       langham  52.395385 -107.440798\n",
       "2  punta arenas -68.156787  -88.597121\n",
       "3       kahului  30.390448 -149.840562\n",
       "4     cape town -47.510395   -1.785767"
      ]
     },
     "execution_count": 4,
     "metadata": {},
     "output_type": "execute_result"
    }
   ],
   "source": [
    "cities_df.head()"
   ]
  },
  {
   "cell_type": "code",
   "execution_count": 5,
   "metadata": {},
   "outputs": [
    {
     "data": {
      "text/plain": [
       "602"
      ]
     },
     "execution_count": 5,
     "metadata": {},
     "output_type": "execute_result"
    }
   ],
   "source": [
    "len(cities)"
   ]
  },
  {
   "cell_type": "code",
   "execution_count": 23,
   "metadata": {},
   "outputs": [
    {
     "name": "stdout",
     "output_type": "stream",
     "text": [
      "Beginning Data Retrieval |Processing Record [1] of Set [602] | husavik\n",
      "Beginning Data Retrieval |Processing Record [2] of Set [602] | langham\n",
      "Beginning Data Retrieval |Processing Record [3] of Set [602] | punta arenas\n",
      "Beginning Data Retrieval |Processing Record [4] of Set [602] | kahului\n",
      "Beginning Data Retrieval |Processing Record [5] of Set [602] | cape town\n",
      "Beginning Data Retrieval |Processing Record [6] of Set [602] | rikitea\n",
      "City not found. Skipping...\n",
      "Beginning Data Retrieval |Processing Record [7] of Set [602] | albany\n",
      "Beginning Data Retrieval |Processing Record [8] of Set [602] | ushuaia\n",
      "Beginning Data Retrieval |Processing Record [9] of Set [602] | davila\n",
      "Beginning Data Retrieval |Processing Record [10] of Set [602] | nicolas bravo\n",
      "Beginning Data Retrieval |Processing Record [11] of Set [602] | hailey\n",
      "Beginning Data Retrieval |Processing Record [12] of Set [602] | mataura\n"
     ]
    },
    {
     "ename": "KeyboardInterrupt",
     "evalue": "",
     "output_type": "error",
     "traceback": [
      "\u001b[1;31m---------------------------------------------------------------------------\u001b[0m",
      "\u001b[1;31mKeyboardInterrupt\u001b[0m                         Traceback (most recent call last)",
      "\u001b[1;32m<ipython-input-23-e73c86bdad2d>\u001b[0m in \u001b[0;36m<module>\u001b[1;34m\u001b[0m\n\u001b[0;32m     12\u001b[0m \u001b[1;33m\u001b[0m\u001b[0m\n\u001b[0;32m     13\u001b[0m \u001b[1;32mfor\u001b[0m \u001b[0mcity\u001b[0m \u001b[1;32min\u001b[0m \u001b[0mcities\u001b[0m\u001b[1;33m:\u001b[0m\u001b[1;33m\u001b[0m\u001b[1;33m\u001b[0m\u001b[0m\n\u001b[1;32m---> 14\u001b[1;33m     \u001b[0mtime\u001b[0m\u001b[1;33m.\u001b[0m\u001b[0msleep\u001b[0m\u001b[1;33m(\u001b[0m\u001b[1;36m1\u001b[0m\u001b[1;33m)\u001b[0m\u001b[1;33m\u001b[0m\u001b[1;33m\u001b[0m\u001b[0m\n\u001b[0m\u001b[0;32m     15\u001b[0m     \u001b[0mquery_url\u001b[0m \u001b[1;33m=\u001b[0m \u001b[0murl\u001b[0m \u001b[1;33m+\u001b[0m \u001b[1;34m\"q=\"\u001b[0m \u001b[1;33m+\u001b[0m \u001b[0mcity\u001b[0m \u001b[1;33m+\u001b[0m \u001b[1;34m\"&APPID=\"\u001b[0m \u001b[1;33m+\u001b[0m \u001b[0mapikey\u001b[0m \u001b[1;33m+\u001b[0m \u001b[1;34m\"&units=imperial\"\u001b[0m\u001b[1;33m\u001b[0m\u001b[1;33m\u001b[0m\u001b[0m\n\u001b[0;32m     16\u001b[0m     \u001b[0mweather_response\u001b[0m \u001b[1;33m=\u001b[0m \u001b[0mrequests\u001b[0m\u001b[1;33m.\u001b[0m\u001b[0mget\u001b[0m\u001b[1;33m(\u001b[0m\u001b[0mquery_url\u001b[0m\u001b[1;33m)\u001b[0m\u001b[1;33m\u001b[0m\u001b[1;33m\u001b[0m\u001b[0m\n",
      "\u001b[1;31mKeyboardInterrupt\u001b[0m: "
     ]
    }
   ],
   "source": [
    "rsp_city = []\n",
    "rsp_id = []\n",
    "rsp_country = []\n",
    "rsp_date = []\n",
    "rsp_lat = []\n",
    "rsp_long = []\n",
    "rsp_maxtemp = []\n",
    "rsp_cloud = []\n",
    "rsp_humid = []\n",
    "rsp_wind = []\n",
    "idx = 1\n",
    "\n",
    "for city in cities:\n",
    "    time.sleep(1)\n",
    "    query_url = url + \"q=\" + city + \"&APPID=\" + apikey + \"&units=imperial\"\n",
    "    weather_response = requests.get(query_url)\n",
    "    weather_data = weather_response.json()\n",
    "    if weather_data[\"cod\"] == \"200\" or weather_data[\"cod\"] == 200:\n",
    "        print(f\"Beginning Data Retrieval |Processing Record [{idx}] of Set [{len(cities)}] | {city}\")\n",
    "        rsp_city.append(weather_data[\"name\"])\n",
    "        rsp_id.append(weather_data[\"id\"])\n",
    "        rsp_country.append(weather_data[\"sys\"][\"country\"])\n",
    "        rsp_date.append(weather_data[\"dt\"])\n",
    "        rsp_lat.append(weather_data[\"coord\"][\"lat\"])\n",
    "        rsp_long.append(weather_data[\"coord\"][\"lon\"])\n",
    "        rsp_maxtemp.append(weather_data[\"main\"][\"temp_max\"])\n",
    "        rsp_cloud.append(weather_data[\"clouds\"][\"all\"])\n",
    "        rsp_humid.append(weather_data[\"main\"][\"humidity\"])\n",
    "        rsp_wind.append(weather_data[\"wind\"][\"speed\"])\n",
    "        idx +=1\n",
    "        \n",
    "    else:\n",
    "        print(\"City not found. Skipping...\")\n",
    "print(\"Process complete.\")"
   ]
  },
  {
   "cell_type": "code",
   "execution_count": 24,
   "metadata": {},
   "outputs": [
    {
     "data": {
      "text/html": [
       "<div>\n",
       "<style scoped>\n",
       "    .dataframe tbody tr th:only-of-type {\n",
       "        vertical-align: middle;\n",
       "    }\n",
       "\n",
       "    .dataframe tbody tr th {\n",
       "        vertical-align: top;\n",
       "    }\n",
       "\n",
       "    .dataframe thead th {\n",
       "        text-align: right;\n",
       "    }\n",
       "</style>\n",
       "<table border=\"1\" class=\"dataframe\">\n",
       "  <thead>\n",
       "    <tr style=\"text-align: right;\">\n",
       "      <th></th>\n",
       "      <th>City</th>\n",
       "      <th>Country</th>\n",
       "      <th>ID</th>\n",
       "      <th>Latitude</th>\n",
       "      <th>Longitude</th>\n",
       "      <th>Max Temp</th>\n",
       "      <th>Cloudiness</th>\n",
       "      <th>Humidity</th>\n",
       "      <th>Wind Speed</th>\n",
       "      <th>Date</th>\n",
       "    </tr>\n",
       "  </thead>\n",
       "  <tbody>\n",
       "    <tr>\n",
       "      <th>0</th>\n",
       "      <td>Husavik</td>\n",
       "      <td>CA</td>\n",
       "      <td>5961417</td>\n",
       "      <td>50.56</td>\n",
       "      <td>-96.99</td>\n",
       "      <td>41.00</td>\n",
       "      <td>82</td>\n",
       "      <td>75</td>\n",
       "      <td>5.99</td>\n",
       "      <td>1573936752</td>\n",
       "    </tr>\n",
       "    <tr>\n",
       "      <th>1</th>\n",
       "      <td>Langham</td>\n",
       "      <td>CA</td>\n",
       "      <td>6049403</td>\n",
       "      <td>52.36</td>\n",
       "      <td>-106.96</td>\n",
       "      <td>34.00</td>\n",
       "      <td>90</td>\n",
       "      <td>98</td>\n",
       "      <td>4.70</td>\n",
       "      <td>1573936769</td>\n",
       "    </tr>\n",
       "    <tr>\n",
       "      <th>2</th>\n",
       "      <td>Punta Arenas</td>\n",
       "      <td>CL</td>\n",
       "      <td>3874787</td>\n",
       "      <td>-53.16</td>\n",
       "      <td>-70.91</td>\n",
       "      <td>55.40</td>\n",
       "      <td>100</td>\n",
       "      <td>62</td>\n",
       "      <td>18.34</td>\n",
       "      <td>1573936614</td>\n",
       "    </tr>\n",
       "    <tr>\n",
       "      <th>3</th>\n",
       "      <td>Kahului</td>\n",
       "      <td>US</td>\n",
       "      <td>5847411</td>\n",
       "      <td>20.89</td>\n",
       "      <td>-156.47</td>\n",
       "      <td>84.20</td>\n",
       "      <td>1</td>\n",
       "      <td>51</td>\n",
       "      <td>10.29</td>\n",
       "      <td>1573936771</td>\n",
       "    </tr>\n",
       "    <tr>\n",
       "      <th>4</th>\n",
       "      <td>Cape Town</td>\n",
       "      <td>ZA</td>\n",
       "      <td>3369157</td>\n",
       "      <td>-33.93</td>\n",
       "      <td>18.42</td>\n",
       "      <td>62.01</td>\n",
       "      <td>20</td>\n",
       "      <td>72</td>\n",
       "      <td>23.04</td>\n",
       "      <td>1573936772</td>\n",
       "    </tr>\n",
       "    <tr>\n",
       "      <th>5</th>\n",
       "      <td>Rikitea</td>\n",
       "      <td>PF</td>\n",
       "      <td>4030556</td>\n",
       "      <td>-23.12</td>\n",
       "      <td>-134.97</td>\n",
       "      <td>74.28</td>\n",
       "      <td>95</td>\n",
       "      <td>84</td>\n",
       "      <td>15.75</td>\n",
       "      <td>1573936773</td>\n",
       "    </tr>\n",
       "    <tr>\n",
       "      <th>6</th>\n",
       "      <td>Albany</td>\n",
       "      <td>US</td>\n",
       "      <td>5106834</td>\n",
       "      <td>42.65</td>\n",
       "      <td>-73.75</td>\n",
       "      <td>32.00</td>\n",
       "      <td>1</td>\n",
       "      <td>44</td>\n",
       "      <td>8.05</td>\n",
       "      <td>1573936775</td>\n",
       "    </tr>\n",
       "    <tr>\n",
       "      <th>7</th>\n",
       "      <td>Ushuaia</td>\n",
       "      <td>AR</td>\n",
       "      <td>3833367</td>\n",
       "      <td>-54.81</td>\n",
       "      <td>-68.31</td>\n",
       "      <td>59.00</td>\n",
       "      <td>75</td>\n",
       "      <td>54</td>\n",
       "      <td>12.75</td>\n",
       "      <td>1573936776</td>\n",
       "    </tr>\n",
       "    <tr>\n",
       "      <th>8</th>\n",
       "      <td>Davila</td>\n",
       "      <td>PH</td>\n",
       "      <td>1715335</td>\n",
       "      <td>18.47</td>\n",
       "      <td>120.58</td>\n",
       "      <td>79.54</td>\n",
       "      <td>40</td>\n",
       "      <td>85</td>\n",
       "      <td>22.73</td>\n",
       "      <td>1573936777</td>\n",
       "    </tr>\n",
       "    <tr>\n",
       "      <th>9</th>\n",
       "      <td>Nicolas Bravo</td>\n",
       "      <td>MX</td>\n",
       "      <td>4015683</td>\n",
       "      <td>24.39</td>\n",
       "      <td>-104.74</td>\n",
       "      <td>71.60</td>\n",
       "      <td>40</td>\n",
       "      <td>35</td>\n",
       "      <td>8.05</td>\n",
       "      <td>1573936779</td>\n",
       "    </tr>\n",
       "  </tbody>\n",
       "</table>\n",
       "</div>"
      ],
      "text/plain": [
       "            City Country       ID  Latitude  Longitude  Max Temp  Cloudiness  \\\n",
       "0        Husavik      CA  5961417     50.56     -96.99     41.00          82   \n",
       "1        Langham      CA  6049403     52.36    -106.96     34.00          90   \n",
       "2   Punta Arenas      CL  3874787    -53.16     -70.91     55.40         100   \n",
       "3        Kahului      US  5847411     20.89    -156.47     84.20           1   \n",
       "4      Cape Town      ZA  3369157    -33.93      18.42     62.01          20   \n",
       "5        Rikitea      PF  4030556    -23.12    -134.97     74.28          95   \n",
       "6         Albany      US  5106834     42.65     -73.75     32.00           1   \n",
       "7        Ushuaia      AR  3833367    -54.81     -68.31     59.00          75   \n",
       "8         Davila      PH  1715335     18.47     120.58     79.54          40   \n",
       "9  Nicolas Bravo      MX  4015683     24.39    -104.74     71.60          40   \n",
       "\n",
       "   Humidity  Wind Speed        Date  \n",
       "0        75        5.99  1573936752  \n",
       "1        98        4.70  1573936769  \n",
       "2        62       18.34  1573936614  \n",
       "3        51       10.29  1573936771  \n",
       "4        72       23.04  1573936772  \n",
       "5        84       15.75  1573936773  \n",
       "6        44        8.05  1573936775  \n",
       "7        54       12.75  1573936776  \n",
       "8        85       22.73  1573936777  \n",
       "9        35        8.05  1573936779  "
      ]
     },
     "execution_count": 24,
     "metadata": {},
     "output_type": "execute_result"
    }
   ],
   "source": [
    "response_data = {\"City\":rsp_city,\"Country\":rsp_country,\"ID\":rsp_id,\"Latitude\":rsp_lat,\n",
    "                \"Longitude\":rsp_long,\"Max Temp\":rsp_maxtemp,\"Cloudiness\":rsp_cloud,\n",
    "                \"Humidity\":rsp_humid,\"Wind Speed\":rsp_wind,\"Date\":rsp_date}\n",
    "complete_data = pd.DataFrame(response_data)\n",
    "complete_data.head(10)"
   ]
  },
  {
   "cell_type": "code",
   "execution_count": 8,
   "metadata": {},
   "outputs": [],
   "source": [
    "create_csv = complete_data.to_csv('weather_output.csv')"
   ]
  },
  {
   "cell_type": "code",
   "execution_count": 9,
   "metadata": {},
   "outputs": [
    {
     "name": "stdout",
     "output_type": "stream",
     "text": [
      "2019-11-16 13:55:52\n"
     ]
    }
   ],
   "source": [
    "todays_date = datetime.fromtimestamp(complete_data.iloc[0,9])\n",
    "print(todays_date)"
   ]
  },
  {
   "cell_type": "code",
   "execution_count": 14,
   "metadata": {},
   "outputs": [
    {
     "data": {
      "text/plain": [
       "<matplotlib.collections.PathCollection at 0x1f23f54e320>"
      ]
     },
     "execution_count": 14,
     "metadata": {},
     "output_type": "execute_result"
    },
    {
     "data": {
      "image/png": "[encoded data removed]",
      "text/plain": [
       "<Figure size 432x288 with 1 Axes>"
      ]
     },
     "metadata": {
      "needs_background": "light"
     },
     "output_type": "display_data"
    }
   ],
   "source": [
    "#Latitude vs. Temperature\n",
    "lat_x = complete_data[\"Latitude\"]\n",
    "temp_y = complete_data[\"Max Temp\"]\n",
    "plt.scatter(lat_x,temp_y, marker=\"o\", facecolors=\"green\", edgecolors=\"blue\")\n",
    "# plt.ylim(-20,120)\n",
    "# plt.xlim(-90,90)\n",
    "# plt.title(f\"City Latitude vs. Max Temperature ({todays_date})\")\n",
    "# plt.xlabel(\"Latitude\")\n",
    "# plt.ylabel(\"Max Temperature (F)\")\n",
    "# plt.legend(loc=None)\n",
    "# plt.grid(b=None, which=\"major\", axis=\"y\")\n",
    "# plt.show()\n",
    "#plt.savefig(\"lat_vs._temp.png\")"
   ]
  },
  {
   "cell_type": "code",
   "execution_count": null,
   "metadata": {},
   "outputs": [],
   "source": [
    "#Latitude vs. Humidity\n",
    "humid_y = complete_data[\"Humidity\"]\n",
    "plt.scatter(lat_x,humid_y, marker=\"o\", facecolors=\"green\", edgecolors=\"blue\")\n",
    "plt.ylim(0,105)\n",
    "plt.xlim(-90,90)\n",
    "plt.title(\"City Latitude vs. Humidity (Date)\")\n",
    "plt.xlabel(\"Latitude\")\n",
    "plt.ylabel(\"Humidity (%)\")\n",
    "plt.legend(loc=None)\n",
    "plt.grid(b=None, which=\"major\", axis=\"y\")\n",
    "plt.show()\n",
    "#plt.savefig(\"lat_vs._humid.png\")"
   ]
  },
  {
   "cell_type": "code",
   "execution_count": null,
   "metadata": {},
   "outputs": [],
   "source": [
    "#Latitude vs. Cloudiness\n",
    "cloud_y = complete_data[\"Cloudiness\"]\n",
    "plt.scatter(lat_x,cloud_y, marker=\"o\", facecolors=\"green\", edgecolors=\"blue\")\n",
    "plt.ylim(0,105)\n",
    "plt.xlim(-90,90)\n",
    "plt.title(\"City Latitude vs. Cloudiness (Date)\")\n",
    "plt.xlabel(\"Latitude\")\n",
    "plt.ylabel(\"Cloudiness (%)\")\n",
    "plt.legend(loc=None)\n",
    "plt.grid(b=None, which=\"major\", axis=\"y\")\n",
    "plt.show()\n",
    "#plt.savefig(\"lat_vs._cloud.png\")"
   ]
  },
  {
   "cell_type": "code",
   "execution_count": null,
   "metadata": {},
   "outputs": [],
   "source": [
    "#Latitude vs. Wind Speed\n",
    "wind_y = complete_data[\"Wind Speed\"]\n",
    "plt.scatter(lat_x,wind_y, marker=\"o\", facecolors=\"green\", edgecolors=\"blue\")\n",
    "plt.ylim(0,50)\n",
    "plt.xlim(-90,90)\n",
    "plt.title(\"City Latitude vs. Wind Speed (Date)\")\n",
    "plt.xlabel(\"Latitude\")\n",
    "plt.ylabel(\"Wind Speed (mph)\")\n",
    "plt.legend(loc=None)\n",
    "plt.grid(b=None, which=\"major\", axis=\"y\")\n",
    "plt.show()\n",
    "#plt.savefig(\"lat_vs._windspeed.png\")"
   ]
  },
  {
   "cell_type": "code",
   "execution_count": null,
   "metadata": {},
   "outputs": [],
   "source": [
    "#Overall question, does the weather getting hotter when approaching the equator?\n",
    "# pull lat and long, temp, cloud, wind speed\n",
    "#include print log of each city, include city number and name\n",
    "#1. scatter plot Temperature (F) vs. Latitude, include date of analysis on plot title\n",
    "#2. Humidity(%) vs. Latitude\n",
    "#3. Cloudiness(%) vs. latitude\n",
    "#4. winds speed vs. latitude\n",
    "#5. save csv for all retrieved data\n",
    "#6. save png for all 4 plots\n",
    "#7. 3 observable trends\n"
   ]
  }
 ],
 "metadata": {
  "kernelspec": {
   "display_name": "Python 3",
   "language": "python",
   "name": "python3"
  },
  "language_info": {
   "codemirror_mode": {
    "name": "ipython",
    "version": 3
   },
   "file_extension": ".py",
   "mimetype": "text/x-python",
   "name": "python",
   "nbconvert_exporter": "python",
   "pygments_lexer": "ipython3",
   "version": "3.7.3"
  }
 },
 "nbformat": 4,
 "nbformat_minor": 2
}
