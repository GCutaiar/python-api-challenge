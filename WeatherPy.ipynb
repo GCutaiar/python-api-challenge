{
 "cells": [
  {
   "cell_type": "code",
   "execution_count": 16,
   "metadata": {},
   "outputs": [],
   "source": [
    "import matplotlib.pyplot as plt\n",
    "import pandas as pd\n",
    "import numpy as np\n",
    "import requests\n",
    "import time\n",
    "import os\n",
    "from citipy import citipy\n",
    "\n",
    "apikey = os.environ.get(\"OpenWeather\")\n",
    "url = \"http://api.openweathermap.org/data/2.5/weather?\"\n",
    "\n",
    "output_cities_data = \"output_data/weather_cities.csv\"\n",
    "\n",
    "lat_rang = (-90, 90)\n",
    "long_range = (-180, 180)"
   ]
  },
  {
   "cell_type": "code",
   "execution_count": 17,
   "metadata": {},
   "outputs": [
    {
     "data": {
      "text/plain": [
       "584"
      ]
     },
     "execution_count": 17,
     "metadata": {},
     "output_type": "execute_result"
    }
   ],
   "source": [
    "lat_longs = []\n",
    "cities = []\n",
    "lats = np.random.uniform(low=-90.000, high=90.000, size=1500)\n",
    "longs = np.random.uniform(low=-180.000, high=180.00, size=1500)\n",
    "lat_longs = zip(lats, longs)\n",
    "\n",
    "for lat_long in lat_longs:\n",
    "    city =citipy.nearest_city(lat_long[0], lat_long[1]).city_name\n",
    "    if city not in cities:\n",
    "        cities.append(city)\n",
    "len(cities)"
   ]
  },
  {
   "cell_type": "code",
   "execution_count": 18,
   "metadata": {},
   "outputs": [
    {
     "ename": "NameError",
     "evalue": "name 'found' is not defined",
     "output_type": "error",
     "traceback": [
      "\u001b[1;31m---------------------------------------------------------------------------\u001b[0m",
      "\u001b[1;31mNameError\u001b[0m                                 Traceback (most recent call last)",
      "\u001b[1;32m<ipython-input-18-4fdbe91cb289>\u001b[0m in \u001b[0;36m<module>\u001b[1;34m\u001b[0m\n\u001b[0;32m     15\u001b[0m     \u001b[0mweather_response\u001b[0m \u001b[1;33m=\u001b[0m \u001b[0mrequests\u001b[0m\u001b[1;33m.\u001b[0m\u001b[0mget\u001b[0m\u001b[1;33m(\u001b[0m\u001b[0mquery_url\u001b[0m\u001b[1;33m)\u001b[0m\u001b[1;33m\u001b[0m\u001b[1;33m\u001b[0m\u001b[0m\n\u001b[0;32m     16\u001b[0m     \u001b[0mweather_data\u001b[0m \u001b[1;33m=\u001b[0m \u001b[0mweather_response\u001b[0m\u001b[1;33m.\u001b[0m\u001b[0mjson\u001b[0m\u001b[1;33m(\u001b[0m\u001b[1;33m)\u001b[0m\u001b[1;33m\u001b[0m\u001b[1;33m\u001b[0m\u001b[0m\n\u001b[1;32m---> 17\u001b[1;33m     \u001b[1;32mif\u001b[0m \u001b[0mcity\u001b[0m \u001b[1;32mis\u001b[0m \u001b[0mfound\u001b[0m\u001b[1;33m:\u001b[0m\u001b[1;33m\u001b[0m\u001b[1;33m\u001b[0m\u001b[0m\n\u001b[0m\u001b[0;32m     18\u001b[0m         \u001b[0mprint\u001b[0m\u001b[1;33m(\u001b[0m\u001b[1;34mf\"Beginning Data Retrieval |Processing Record [] of Set [] | {city}\"\u001b[0m\u001b[1;33m)\u001b[0m\u001b[1;33m\u001b[0m\u001b[1;33m\u001b[0m\u001b[0m\n\u001b[0;32m     19\u001b[0m         \u001b[0mrsp_city\u001b[0m\u001b[1;33m.\u001b[0m\u001b[0mappend\u001b[0m \u001b[1;33m=\u001b[0m \u001b[0mweather_data\u001b[0m\u001b[1;33m[\u001b[0m\u001b[1;34m\"name\"\u001b[0m\u001b[1;33m]\u001b[0m\u001b[1;33m\u001b[0m\u001b[1;33m\u001b[0m\u001b[0m\n",
      "\u001b[1;31mNameError\u001b[0m: name 'found' is not defined"
     ]
    }
   ],
   "source": [
    "rsp_city = []\n",
    "rsp_id = []\n",
    "rsp_country = []\n",
    "rsp_date = []\n",
    "rsp_lat = []\n",
    "rsp_long = []\n",
    "rsp_maxtemp = []\n",
    "rsp_cloud = []\n",
    "rsp_humid = []\n",
    "rsp_wind = []\n",
    "\n",
    "for city in cities:\n",
    "    time.sleep(1)\n",
    "    query_url = url + \"appid=\" + apikey + \"&q=\" + city\n",
    "    weather_response = requests.get(query_url)\n",
    "    weather_data = weather_response.json()\n",
    "    if city is found:\n",
    "        print(f\"Beginning Data Retrieval |Processing Record [] of Set [] | {city}\")\n",
    "        rsp_city.append = weather_data[\"name\"]\n",
    "        rsp_id.append = weather_data[\"id\"]\n",
    "        rsp_country.append = weather_data[\"sys\"][3]\n",
    "        rsp_date.append = weather_data[\"dt\"]\n",
    "        rsp_lat.append = weather_data[\"coord\"][1]\n",
    "        rsp_long.append = weather_data[\"coord\"][0]\n",
    "        rsp_maxtemp.append = weather_data[\"main\"][4]\n",
    "        rsp_cloud.append = weather_data[\"all\"][0]\n",
    "        rsp_humid.append = weather_data[\"main\"][2]\n",
    "        rsp_wind.append = weather_data[\"wind\"][0]\n",
    "    else:\n",
    "        print(\"City not found. Skipping...\")\n",
    "response_data = [{\"City\":rsp_city,\"ID\":rsp_id,\"Country\":rsp_country,\"Date\":rsp_date,\"Latitude\":rsp_lat,\n",
    "                              \"Longitude\":rsp_long,\"Max Temp\":rsp_maxtemp,\"Cloudiness\":rsp_cloud,\"Humidity\":rsp_humid,\n",
    "                              \"Wind Speed\":rsp_wind}]\n",
    "complete_data = pd.DataFrame(response_data)\n",
    "pd.write(output_cities_data)  "
   ]
  },
  {
   "cell_type": "code",
   "execution_count": null,
   "metadata": {},
   "outputs": [],
   "source": [
    "complete_data.head()"
   ]
  },
  {
   "cell_type": "code",
   "execution_count": null,
   "metadata": {},
   "outputs": [],
   "source": [
    "#Latitude vs. Temperature\n",
    "lat_x = complete_data[\"Latitude\"]\n",
    "temp_y = complete_data[\"Max Temp\"]\n",
    "plt.scatter(lat_x,temp_y, marker=\"o\", facecolors=\"green\", edgecolors=\"blue\")\n",
    "plt.ylim(-20,120)\n",
    "plt.xlim(-90,90)\n",
    "plt.title(\"City Latitude vs. Max Temperature (Date)\")\n",
    "plt.xlabel(\"Latitude\")\n",
    "plt.ylabel(\"Max Temperature (F)\")\n",
    "plt.legend(loc=None)\n",
    "plt.grid(b=None, which=\"major\", axis=\"y\")\n",
    "plt.show()\n",
    "plt.savefig(\"lat vs. temp\")"
   ]
  },
  {
   "cell_type": "code",
   "execution_count": null,
   "metadata": {},
   "outputs": [],
   "source": [
    "#Latitude vs. Humidity\n",
    "humid_y = complete_data[\"Humidity\"]\n",
    "plt.scatter(lat_x,humid_y, marker=\"o\", facecolors=\"green\", edgecolors=\"blue\")\n",
    "plt.ylim(0,105)\n",
    "plt.xlim(-90,90)\n",
    "plt.title(\"City Latitude vs. Humidity (Date)\")\n",
    "plt.xlabel(\"Latitude\")\n",
    "plt.ylabel(\"Humidity (%)\")\n",
    "plt.legend(loc=None)\n",
    "plt.grid(b=None, which=\"major\", axis=\"y\")\n",
    "plt.show()\n",
    "plt.savefig(\"lat vs. humid\")"
   ]
  },
  {
   "cell_type": "code",
   "execution_count": null,
   "metadata": {},
   "outputs": [],
   "source": [
    "#Latitude vs. Cloudiness\n",
    "cloud_y = complete_data[\"Cloudiness\"]\n",
    "plt.scatter(lat_x,cloud_y, marker=\"o\", facecolors=\"green\", edgecolors=\"blue\")\n",
    "plt.ylim(0,105)\n",
    "plt.xlim(-90,90)\n",
    "plt.title(\"City Latitude vs. Cloudiness (Date)\")\n",
    "plt.xlabel(\"Latitude\")\n",
    "plt.ylabel(\"Cloudiness (%)\")\n",
    "plt.legend(loc=None)\n",
    "plt.grid(b=None, which=\"major\", axis=\"y\")\n",
    "plt.show()\n",
    "plt.savefig(\"lat vs. cloud\")"
   ]
  },
  {
   "cell_type": "code",
   "execution_count": null,
   "metadata": {},
   "outputs": [],
   "source": [
    "#Latitude vs. Wind Speed\n",
    "wind_y = complete_data[\"Wind Speed\"]\n",
    "plt.scatter(lat_x,wind_y, marker=\"o\", facecolors=\"green\", edgecolors=\"blue\")\n",
    "plt.ylim(0,50)\n",
    "plt.xlim(-90,90)\n",
    "plt.title(\"City Latitude vs. Wind Speed (Date)\")\n",
    "plt.xlabel(\"Latitude\")\n",
    "plt.ylabel(\"Wind Speed (mph)\")\n",
    "plt.legend(loc=None)\n",
    "plt.grid(b=None, which=\"major\", axis=\"y\")\n",
    "plt.show()\n",
    "plt.savefig(\"lat vs. windspeed\")"
   ]
  },
  {
   "cell_type": "code",
   "execution_count": null,
   "metadata": {},
   "outputs": [],
   "source": [
    "#Overall question, does the weather getting hotter when approaching the equator?\n",
    "# pull lat and long, temp, cloud, wind speed\n",
    "#include print log of each city, include city number and name\n",
    "#1. scatter plot Temperature (F) vs. Latitude, include date of analysis on plot title\n",
    "#2. Humidity(%) vs. Latitude\n",
    "#3. Cloudiness(%) vs. latitude\n",
    "#4. winds speed vs. latitude\n",
    "#5. save csv for all retrieved data\n",
    "#6. save png for all 4 plots\n",
    "#7. 3 observable trends\n"
   ]
  }
 ],
 "metadata": {
  "kernelspec": {
   "display_name": "Python 3",
   "language": "python",
   "name": "python3"
  },
  "language_info": {
   "codemirror_mode": {
    "name": "ipython",
    "version": 3
   },
   "file_extension": ".py",
   "mimetype": "text/x-python",
   "name": "python",
   "nbconvert_exporter": "python",
   "pygments_lexer": "ipython3",
   "version": "3.7.3"
  }
 },
 "nbformat": 4,
 "nbformat_minor": 2
}
