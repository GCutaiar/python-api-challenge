{
 "cells": [
  {
   "cell_type": "code",
   "execution_count": 11,
   "metadata": {},
   "outputs": [],
   "source": [
    "import matplotlib.pyplot as plt\n",
    "import pandas as pd\n",
    "import numpy as np\n",
    "import requests\n",
    "import time\n",
    "import os\n",
    "from citipy import citipy\n",
    "\n",
    "api_key = os.environ.get(\"OpenWeather\")\n",
    "url = \"http://api.openweathermap.org/data/2.5/weather?\"\n",
    "#query_url = url + \"appid=\" + \"&q=\" + city\n",
    "\n",
    "output_cities_data = \"output_data/weather_cities.csv\"\n",
    "\n",
    "lat_rang = (-90, 90)\n",
    "long_range = (-180, 180)"
   ]
  },
  {
   "cell_type": "code",
   "execution_count": 12,
   "metadata": {},
   "outputs": [
    {
     "data": {
      "text/plain": [
       "590"
      ]
     },
     "execution_count": 12,
     "metadata": {},
     "output_type": "execute_result"
    }
   ],
   "source": [
    "lat_longs = []\n",
    "cities = []\n",
    "lats = np.random.uniform(low=-90.000, high=90.000, size=1400)\n",
    "longs = np.random.uniform(low=-180.000, high=180.00, size=1400)\n",
    "lat_longs = zip(lats, longs)\n",
    "\n",
    "for lat_long in lat_longs:\n",
    "    city =citipy.nearest_city(lat_long[0], lat_long[1]).city_name\n",
    "    if city not in cities:\n",
    "        cities.append(city)\n",
    "len(cities)"
   ]
  },
  {
   "cell_type": "code",
   "execution_count": null,
   "metadata": {},
   "outputs": [],
   "source": [
    "#Overall question, does the weather getting hotter when approaching the equator?\n",
    "#randomly select 500 or more cities(no repeat), pull lat and long, temp, cloud, wind speed\n",
    "#include print log of each city, include city number and name\n",
    "#1. scatter plot Temperature (F) vs. Latitude, include date of analysis on plot title\n",
    "#2. Humidity(%) vs. Latitude\n",
    "#3. Cloudiness(%) vs. latitude\n",
    "#4. winds speed vs. latitude\n",
    "#5. save csv for all retrieved data\n",
    "#6. save png for all 4 plots\n",
    "#7. 3 observable trends\n"
   ]
  }
 ],
 "metadata": {
  "kernelspec": {
   "display_name": "Python 3",
   "language": "python",
   "name": "python3"
  },
  "language_info": {
   "codemirror_mode": {
    "name": "ipython",
    "version": 3
   },
   "file_extension": ".py",
   "mimetype": "text/x-python",
   "name": "python",
   "nbconvert_exporter": "python",
   "pygments_lexer": "ipython3",
   "version": "3.7.3"
  }
 },
 "nbformat": 4,
 "nbformat_minor": 2
}
